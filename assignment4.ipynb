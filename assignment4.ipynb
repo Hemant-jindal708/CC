{
 "cells": [
  {
   "cell_type": "code",
   "execution_count": 7,
   "metadata": {},
   "outputs": [],
   "source": [
    "import numpy as np"
   ]
  },
  {
   "cell_type": "markdown",
   "metadata": {},
   "source": [
    "Question 1"
   ]
  },
  {
   "cell_type": "code",
   "execution_count": 8,
   "metadata": {},
   "outputs": [
    {
     "name": "stdout",
     "output_type": "stream",
     "text": [
      "Addition: [ 7 12 17 22 27]\n",
      "Multiplication: [15 30 45 60 75]\n",
      "Division: [ 2.5  5.   7.5 10.  12.5]\n"
     ]
    }
   ],
   "source": [
    "arr1 = np.array([5, 10, 15, 20, 25])\n",
    "\n",
    "add_arr = arr1 + 2\n",
    "\n",
    "mul_arr = arr1 * 3\n",
    "\n",
    "div_arr = arr1 / 2\n",
    "\n",
    "print(\"Addition:\", add_arr)\n",
    "print(\"Multiplication:\", mul_arr)\n",
    "print(\"Division:\", div_arr)"
   ]
  },
  {
   "cell_type": "markdown",
   "metadata": {},
   "source": [
    "Question 2"
   ]
  },
  {
   "cell_type": "code",
   "execution_count": 9,
   "metadata": {},
   "outputs": [
    {
     "name": "stdout",
     "output_type": "stream",
     "text": [
      "Reversed Array: [5 4 6 3 2 1]\n",
      "Most Frequent in x: 1 at indices: [0 5 7 8 9]\n",
      "Most Frequent in y: 1 at indices: [0 1 2]\n"
     ]
    }
   ],
   "source": [
    "arr2 = np.array([1, 2, 3, 6, 4, 5])\n",
    "\n",
    "reversed_arr = arr2[::-1]\n",
    "print(\"Reversed Array:\", reversed_arr)\n",
    "\n",
    "x = np.array([1, 2, 3, 4, 5, 1, 2, 1, 1, 1])\n",
    "y = np.array([1, 1, 1, 2, 3, 4, 2, 4, 3, 3])\n",
    "\n",
    "most_frequent_x = np.bincount(x).argmax()\n",
    "indices_x = np.where(x == most_frequent_x)\n",
    "\n",
    "most_frequent_y = np.bincount(y).argmax()\n",
    "indices_y = np.where(y == most_frequent_y)\n",
    "\n",
    "print(\"Most Frequent in x:\", most_frequent_x, \"at indices:\", indices_x[0])\n",
    "print(\"Most Frequent in y:\", most_frequent_y, \"at indices:\", indices_y[0])"
   ]
  },
  {
   "cell_type": "markdown",
   "metadata": {},
   "source": [
    "Question 3\n"
   ]
  },
  {
   "cell_type": "code",
   "execution_count": 10,
   "metadata": {},
   "outputs": [
    {
     "name": "stdout",
     "output_type": "stream",
     "text": [
      "Element at (1st row, 2nd column): 20\n",
      "Element at (3rd row, 1st column): 70\n"
     ]
    }
   ],
   "source": [
    "arr3 = np.array([[10, 20, 30], [40, 50, 60], [70, 80, 90]])\n",
    "\n",
    "element_1_2 = arr3[0, 1]\n",
    "\n",
    "element_3_1 = arr3[2, 0]\n",
    "\n",
    "print(\"Element at (1st row, 2nd column):\", element_1_2)\n",
    "print(\"Element at (3rd row, 1st column):\", element_3_1)"
   ]
  },
  {
   "cell_type": "markdown",
   "metadata": {},
   "source": [
    "Question 4"
   ]
  },
  {
   "cell_type": "code",
   "execution_count": 11,
   "metadata": {},
   "outputs": [
    {
     "name": "stdout",
     "output_type": "stream",
     "text": [
      "Dimensions: 1\n",
      "Shape: (25,)\n",
      "Total Elements: 25\n",
      "Data Type: float64\n",
      "Bytes Consumed: 200\n",
      "Reshaped Transposed Array:\n",
      " [[ 10.    28.75  47.5   66.25  85.  ]\n",
      " [ 13.75  32.5   51.25  70.    88.75]\n",
      " [ 17.5   36.25  55.    73.75  92.5 ]\n",
      " [ 21.25  40.    58.75  77.5   96.25]\n",
      " [ 25.    43.75  62.5   81.25 100.  ]]\n",
      "Transpose using .T:\n",
      " [[ 10.    28.75  47.5   66.25  85.  ]\n",
      " [ 13.75  32.5   51.25  70.    88.75]\n",
      " [ 17.5   36.25  55.    73.75  92.5 ]\n",
      " [ 21.25  40.    58.75  77.5   96.25]\n",
      " [ 25.    43.75  62.5   81.25 100.  ]]\n"
     ]
    }
   ],
   "source": [
    "name_array = np.linspace(10, 100, 25)\n",
    "\n",
    "print(\"Dimensions:\", name_array.ndim)\n",
    "print(\"Shape:\", name_array.shape)\n",
    "print(\"Total Elements:\", name_array.size)\n",
    "print(\"Data Type:\", name_array.dtype)\n",
    "print(\"Bytes Consumed:\", name_array.nbytes)\n",
    "\n",
    "reshaped_array = name_array.reshape(5, 5).T\n",
    "print(\"Reshaped Transposed Array:\\n\", reshaped_array)\n",
    "\n",
    "print(\"Transpose using .T:\\n\", name_array.reshape(5, 5).T)"
   ]
  },
  {
   "cell_type": "markdown",
   "metadata": {},
   "source": [
    "Question 5"
   ]
  },
  {
   "cell_type": "code",
   "execution_count": 12,
   "metadata": {},
   "outputs": [
    {
     "name": "stdout",
     "output_type": "stream",
     "text": [
      "Mean: 43.333333333333336\n",
      "Median: 37.5\n",
      "Max: 90\n",
      "Min: 10\n",
      "Unique Elements: [10 15 20 30 35 40 50 60 70 80 90]\n",
      "Reshaped Array (4x3):\n",
      " [[10 20 30]\n",
      " [40 50 60]\n",
      " [70 80 90]\n",
      " [15 20 35]]\n",
      "Resized Array (2x3):\n",
      " [[10 20 30]\n",
      " [50 60 70]]\n"
     ]
    }
   ],
   "source": [
    "ucs420_name = np.array([[10, 20, 30, 40], \n",
    "                        [50, 60, 70, 80], \n",
    "                        [90, 15, 20, 35]])\n",
    "\n",
    "mean_value = np.mean(ucs420_name)\n",
    "median_value = np.median(ucs420_name)\n",
    "max_value = np.max(ucs420_name)\n",
    "min_value = np.min(ucs420_name)\n",
    "unique_values = np.unique(ucs420_name)\n",
    "\n",
    "print(\"Mean:\", mean_value)\n",
    "print(\"Median:\", median_value)\n",
    "print(\"Max:\", max_value)\n",
    "print(\"Min:\", min_value)\n",
    "print(\"Unique Elements:\", unique_values)\n",
    "\n",
    "reshaped_ucs420 = ucs420_name.reshape(4, 3)\n",
    "resized_ucs420 = ucs420_name[:2, :3]\n",
    "\n",
    "print(\"Reshaped Array (4x3):\\n\", reshaped_ucs420)\n",
    "print(\"Resized Array (2x3):\\n\", resized_ucs420)"
   ]
  }
 ],
 "metadata": {
  "kernelspec": {
   "display_name": "Python 3",
   "language": "python",
   "name": "python3"
  },
  "language_info": {
   "codemirror_mode": {
    "name": "ipython",
    "version": 3
   },
   "file_extension": ".py",
   "mimetype": "text/x-python",
   "name": "python",
   "nbconvert_exporter": "python",
   "pygments_lexer": "ipython3",
   "version": "3.13.1"
  }
 },
 "nbformat": 4,
 "nbformat_minor": 2
}
